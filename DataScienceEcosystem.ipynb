{
 "cells": [
  {
   "cell_type": "markdown",
   "id": "f0664cc2-18fa-4cae-bd91-d47823609c37",
   "metadata": {},
   "source": [
    "# Data Science Tools and Ecosystem using"
   ]
  },
  {
   "cell_type": "markdown",
   "id": "540c6aec-f004-4636-ae21-6fa7a3640f58",
   "metadata": {},
   "source": [
    "In this notebook, Data Science Tools and Ecosystem are summarized."
   ]
  },
  {
   "cell_type": "markdown",
   "id": "571ab4f7-2211-4236-9522-23c3cefea5f9",
   "metadata": {},
   "source": [
    "**Objectives:**<br>\n",
    "- List popular languages used in data science\n",
    "- List popular libraries used in data science\n",
    "- List popular data scienc tools\n",
    "- Examples of simple arithmetic expressions in Python"
   ]
  },
  {
   "cell_type": "markdown",
   "id": "61dd2fcc-ab40-4122-a775-f3121aa87b04",
   "metadata": {},
   "source": [
    "Some of the popular languages that Data Scientists use are:\n",
    "1. Python\n",
    "2. R\n",
    "3. C++"
   ]
  },
  {
   "cell_type": "markdown",
   "id": "45072de3-4d3a-43e0-944f-31c6be7aab11",
   "metadata": {},
   "source": [
    "Some of the commonly used libraries used by Data Scientists include:\n",
    "1. sklearn\n",
    "2. pandas\n",
    "3. NumPy"
   ]
  },
  {
   "cell_type": "markdown",
   "id": "8fb09145-1ed2-43e3-88d0-61f6adbcbf5b",
   "metadata": {},
   "source": [
    "<div style=\"display: inline-block; text-align: left;\">\n",
    "\n",
    "| Data Science Tools |\n",
    "|:-------------------|\n",
    "| Jupyter Notebook |\n",
    "| Spyder |\n",
    "| RStudio |\n",
    "</div>"
   ]
  },
  {
   "cell_type": "markdown",
   "id": "56116b5c-6536-4c45-b74f-7d4e1860f4e2",
   "metadata": {},
   "source": [
    "### Below are a few examples of evaluating arithmetic expressions in Python."
   ]
  },
  {
   "cell_type": "code",
   "execution_count": 1,
   "id": "bab63a8f-a530-4964-8052-f7d29600c502",
   "metadata": {},
   "outputs": [
    {
     "data": {
      "text/plain": [
       "17"
      ]
     },
     "execution_count": 1,
     "metadata": {},
     "output_type": "execute_result"
    }
   ],
   "source": [
    "# This is a simple arithmetic expression to mutiply then add integers.\n",
    "(3*4)+5"
   ]
  },
  {
   "cell_type": "code",
   "execution_count": 2,
   "id": "48c78b91-da68-4b80-b5b8-58069e67c31a",
   "metadata": {},
   "outputs": [
    {
     "name": "stdout",
     "output_type": "stream",
     "text": [
      "3.3333333333333335\n"
     ]
    }
   ],
   "source": [
    "# This will convert 200 minutes to hours by diving by 60.\n",
    "minutes = 200\n",
    "hours = minutes/60\n",
    "print(hours)"
   ]
  },
  {
   "cell_type": "markdown",
   "id": "ee864da7-de97-460e-80a6-70381d5ca26a",
   "metadata": {},
   "source": [
    "## Author\n",
    "Aleksandra Kopytek"
   ]
  },
  {
   "cell_type": "code",
   "execution_count": null,
   "id": "e95e2d6a-cb61-4c5a-bd08-1e1fcde39f15",
   "metadata": {},
   "outputs": [],
   "source": []
  }
 ],
 "metadata": {
  "kernelspec": {
   "display_name": "Python 3 (ipykernel)",
   "language": "python",
   "name": "python3"
  },
  "language_info": {
   "codemirror_mode": {
    "name": "ipython",
    "version": 3
   },
   "file_extension": ".py",
   "mimetype": "text/x-python",
   "name": "python",
   "nbconvert_exporter": "python",
   "pygments_lexer": "ipython3",
   "version": "3.12.4"
  }
 },
 "nbformat": 4,
 "nbformat_minor": 5
}
